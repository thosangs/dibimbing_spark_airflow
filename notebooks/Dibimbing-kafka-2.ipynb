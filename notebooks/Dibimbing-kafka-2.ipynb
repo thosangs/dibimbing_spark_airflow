{
 "cells": [
  {
   "cell_type": "code",
   "execution_count": 2,
   "id": "aa3d2efe-9447-4b55-b7a7-5e3b51762fe8",
   "metadata": {
    "tags": []
   },
   "outputs": [],
   "source": [
    "import json\n",
    "import uuid\n",
    "import os\n",
    "import json\n",
    "from dotenv import load_dotenv\n",
    "from pathlib import Path\n",
    "from kafka import KafkaProducer\n",
    "from faker import Faker\n",
    "from time import sleep"
   ]
  },
  {
   "cell_type": "code",
   "execution_count": 3,
   "id": "f8124ea4-9961-4141-8f61-4b3a31b35beb",
   "metadata": {
    "tags": []
   },
   "outputs": [
    {
     "data": {
      "text/plain": [
       "True"
      ]
     },
     "execution_count": 3,
     "metadata": {},
     "output_type": "execute_result"
    }
   ],
   "source": [
    "dotenv_path = Path('/resources/.env')\n",
    "load_dotenv(dotenv_path=dotenv_path)"
   ]
  },
  {
   "cell_type": "code",
   "execution_count": 5,
   "id": "984cf422-fabd-43a4-8e1e-9771303b556b",
   "metadata": {
    "tags": []
   },
   "outputs": [],
   "source": [
    "kafka_host = os.getenv('KAFKA_HOST')\n",
    "kafka_topic = os.getenv('KAFKA_TOPIC_NAME')\n",
    "# kafka_topic_partition = os.getenv('KAFKA_TOPIC_NAME')+\"-1\"\n",
    "kafka_topic_partition = \"dibimbing_batch_10\""
   ]
  },
  {
   "cell_type": "code",
   "execution_count": 6,
   "id": "47d743be-7190-48e0-87c0-5f6ddedff5da",
   "metadata": {
    "tags": []
   },
   "outputs": [],
   "source": [
    "from kafka import KafkaConsumer\n",
    "\n",
    "# To consume latest messages and auto-commit offsets\n",
    "consumer = KafkaConsumer(kafka_topic_partition,\n",
    "                         group_id='dibimbing-group',\n",
    "                         bootstrap_servers=[f'{kafka_host}:9092'])"
   ]
  },
  {
   "cell_type": "code",
   "execution_count": 8,
   "id": "f95fe4fd-e78d-490a-9194-a9a98bc751c7",
   "metadata": {
    "tags": []
   },
   "outputs": [],
   "source": [
    "consumer.seek_to_beginning()"
   ]
  },
  {
   "cell_type": "code",
   "execution_count": null,
   "id": "47c9f9b3-a5b0-4bd5-93e7-dcf06e99b192",
   "metadata": {
    "tags": []
   },
   "outputs": [],
   "source": [
    "for message in consumer:\n",
    "    print (\"%s:%d:%d: key=%s value=%s\" % (message.topic, message.partition,\n",
    "                                          message.offset, message.key,\n",
    "                                          message.value))"
   ]
  },
  {
   "cell_type": "code",
   "execution_count": null,
   "id": "3c285f74-9601-462e-bd4c-bbb5cfb59126",
   "metadata": {
    "tags": []
   },
   "outputs": [],
   "source": [
    "from kafka import TopicPartition\n",
    "\n",
    "consumer = KafkaConsumer(group_id='dibimbing-group',\n",
    "                         bootstrap_servers=[f'{kafka_host}:9092'],\n",
    "                         value_deserializer=lambda m: json.loads(m.decode('ascii')),\n",
    "                         auto_offset_reset='earliest',\n",
    "                         enable_auto_commit=False\n",
    "                        )\n",
    "consumer.assign([TopicPartition(\"batch_10_partitions\", 2)])"
   ]
  },
  {
   "cell_type": "code",
   "execution_count": null,
   "id": "4b0a6eba-f188-4d4f-ab12-f63685faf4f3",
   "metadata": {
    "tags": []
   },
   "outputs": [],
   "source": [
    "for message in consumer:\n",
    "    print (\"%s:%d:%d: key=%s value=%s\" % (message.topic, message.partition,\n",
    "                                          message.offset, message.key,\n",
    "                                          message.value))"
   ]
  },
  {
   "cell_type": "code",
   "execution_count": 6,
   "id": "bb81528d-ed9f-48e2-9ce3-f0d27f8a26d0",
   "metadata": {
    "tags": []
   },
   "outputs": [],
   "source": [
    "consumer.seek_to_beginning()"
   ]
  },
  {
   "cell_type": "code",
   "execution_count": 7,
   "id": "c2794306-ef7a-416b-8b70-22395b9ed83b",
   "metadata": {
    "tags": []
   },
   "outputs": [
    {
     "name": "stdout",
     "output_type": "stream",
     "text": [
      "test-topic-1:0:0: key=None value=b'{\"emp_id\": \"5fc54a58-99c9-4f30-9347-001037da2075\", \"employee_name\": \"Valerie Miranda MD\", \"department\": \"IT\", \"state\": \"RJ\", \"salary\": 89433, \"age\": 58, \"bonus\": 82743, \"ts\": 276285992}'\n",
      "test-topic-1:0:1: key=None value=b'{\"emp_id\": \"10f3e0f8-c609-40a4-95fd-ce5bd2da7e55\", \"employee_name\": \"Ryan Anderson\", \"department\": \"IT\", \"state\": \"FL\", \"salary\": 134919, \"age\": 49, \"bonus\": 81896, \"ts\": 428764518}'\n",
      "test-topic-1:0:2: key=None value=b'{\"emp_id\": \"eb1f0749-67d8-44dd-945f-3ff9f1a2124b\", \"employee_name\": \"Patricia Jimenez\", \"department\": \"Marketing\", \"state\": \"IL\", \"salary\": 53252, \"age\": 21, \"bonus\": 92591, \"ts\": 70389199}'\n",
      "test-topic-1:0:3: key=None value=b'{\"emp_id\": \"24c9a636-d693-4db0-bedc-243743ab57ed\", \"employee_name\": \"Troy Johnson\", \"department\": \"Sales\", \"state\": \"FL\", \"salary\": 149369, \"age\": 40, \"bonus\": 68686, \"ts\": 690543684}'\n",
      "test-topic-1:0:4: key=None value=b'{\"emp_id\": \"44015239-1004-4924-9419-8c28fc9cd3fd\", \"employee_name\": \"Pamela Miller\", \"department\": \"HR\", \"state\": \"TX\", \"salary\": 139416, \"age\": 44, \"bonus\": 31032, \"ts\": 3211205}'\n",
      "test-topic-1:0:5: key=None value=b'{\"emp_id\": \"ccb12ba1-a050-42fd-8aaa-6bd532fc53c3\", \"employee_name\": \"Adrian Cohen\", \"department\": \"HR\", \"state\": \"TX\", \"salary\": 80900, \"age\": 20, \"bonus\": 57867, \"ts\": 1589835622}'\n",
      "test-topic-1:0:6: key=None value=b'{\"emp_id\": \"37b2e92a-5818-4800-adde-16a68775d115\", \"employee_name\": \"Rhonda Lopez\", \"department\": \"IT\", \"state\": \"RJ\", \"salary\": 79234, \"age\": 55, \"bonus\": 88536, \"ts\": 1300645003}'\n",
      "test-topic-1:0:7: key=None value=b'{\"emp_id\": \"424197fc-6b6a-4462-a24b-1ddc9e93f8fd\", \"employee_name\": \"Kevin Rivera\", \"department\": \"IT\", \"state\": \"NY\", \"salary\": 34730, \"age\": 25, \"bonus\": 95742, \"ts\": 124708560}'\n",
      "test-topic-1:0:8: key=None value=b'{\"emp_id\": \"ef1a6a5f-8a87-4f67-aa7c-bfe3c8d5b9d8\", \"employee_name\": \"Christian Fisher\", \"department\": \"Sales\", \"state\": \"TX\", \"salary\": 25244, \"age\": 43, \"bonus\": 51213, \"ts\": 860684349}'\n",
      "test-topic-1:0:9: key=None value=b'{\"emp_id\": \"bb6408f6-01b7-4081-9963-208bf4f5ae1a\", \"employee_name\": \"Amanda Bailey\", \"department\": \"Marketing\", \"state\": \"IL\", \"salary\": 141585, \"age\": 42, \"bonus\": 58816, \"ts\": 343230593}'\n",
      "test-topic-1:0:10: key=None value=b'{\"emp_id\": \"a7eb2364-2084-4d9a-af38-57ab51a19b6a\", \"employee_name\": \"Wesley Buchanan\", \"department\": \"IT\", \"state\": \"TX\", \"salary\": 124874, \"age\": 27, \"bonus\": 87388, \"ts\": 998718032}'\n",
      "test-topic-1:0:11: key=None value=b'{\"emp_id\": \"2e97449e-5ed6-477a-a9e8-39063fc56398\", \"employee_name\": \"Charles Banks\", \"department\": \"IT\", \"state\": \"RJ\", \"salary\": 116004, \"age\": 51, \"bonus\": 93614, \"ts\": 1354011898}'\n",
      "test-topic-1:0:12: key=None value=b'{\"emp_id\": \"f66647b4-2fb5-484c-af85-556c8b1cc45a\", \"employee_name\": \"William Gibbs\", \"department\": \"HR\", \"state\": \"FL\", \"salary\": 15543, \"age\": 59, \"bonus\": 38265, \"ts\": 1660977120}'\n",
      "test-topic-1:0:13: key=None value=b'{\"emp_id\": \"eaa6d279-2762-4daa-853e-2c0470efa7ac\", \"employee_name\": \"Kelly Ford\", \"department\": \"IT\", \"state\": \"TX\", \"salary\": 88865, \"age\": 23, \"bonus\": 237, \"ts\": 65382862}'\n",
      "test-topic-1:0:14: key=None value=b'{\"emp_id\": \"9a6d2c6d-42b6-4dce-b718-b3190f776002\", \"employee_name\": \"Patrick Newton\", \"department\": \"Marketing\", \"state\": \"FL\", \"salary\": 21785, \"age\": 40, \"bonus\": 39745, \"ts\": 1554665043}'\n",
      "test-topic-1:0:15: key=None value=b'{\"emp_id\": \"430e4b58-ff0e-4af5-a25d-02bc3e820bf1\", \"employee_name\": \"Ashlee Coleman\", \"department\": \"Marketing\", \"state\": \"FL\", \"salary\": 93218, \"age\": 58, \"bonus\": 67203, \"ts\": 1539541099}'\n",
      "test-topic-1:0:16: key=None value=b'{\"emp_id\": \"e29d3312-f6ec-4872-9e9c-40578caa289a\", \"employee_name\": \"Jessica Rollins\", \"department\": \"Marketing\", \"state\": \"NY\", \"salary\": 87515, \"age\": 27, \"bonus\": 55344, \"ts\": 1225029884}'\n",
      "test-topic-1:0:17: key=None value=b'{\"emp_id\": \"5b8fb630-7def-42fb-8fa1-8f2d9cfda8f5\", \"employee_name\": \"Lisa Casey\", \"department\": \"IT\", \"state\": \"CA\", \"salary\": 77654, \"age\": 41, \"bonus\": 69847, \"ts\": 515841218}'\n",
      "test-topic-1:0:18: key=None value=b'{\"emp_id\": \"d1f2cece-4830-40d8-901e-3840ec17729a\", \"employee_name\": \"Joel Rasmussen\", \"department\": \"Marketing\", \"state\": \"TX\", \"salary\": 111722, \"age\": 59, \"bonus\": 51381, \"ts\": 908790527}'\n",
      "test-topic-1:0:19: key=None value=b'{\"emp_id\": \"27169e13-c28c-4641-8eb9-706a81f038ed\", \"employee_name\": \"Michael Price\", \"department\": \"IT\", \"state\": \"NY\", \"salary\": 34563, \"age\": 25, \"bonus\": 20580, \"ts\": 461712257}'\n",
      "test-topic-1:0:20: key=None value=b'{\"emp_id\": \"05bbb231-aba0-4db5-b1ab-b2ebc8f8ad62\", \"employee_name\": \"Kimberly Sloan\", \"department\": \"IT\", \"state\": \"CA\", \"salary\": 106659, \"age\": 22, \"bonus\": 8982, \"ts\": 836849881}'\n",
      "test-topic-1:0:21: key=None value=b'{\"emp_id\": \"e6b90476-3b1a-4b6e-9da8-3ebdcbbdb31a\", \"employee_name\": \"Dana Pittman\", \"department\": \"Sales\", \"state\": \"IL\", \"salary\": 132538, \"age\": 26, \"bonus\": 14814, \"ts\": 622052505}'\n",
      "test-topic-1:0:22: key=None value=b'{\"emp_id\": \"9b75e5f4-e41b-438f-a599-7f98eff1b019\", \"employee_name\": \"Amanda Vang\", \"department\": \"HR\", \"state\": \"TX\", \"salary\": 145132, \"age\": 28, \"bonus\": 59310, \"ts\": 559201060}'\n",
      "test-topic-1:0:23: key=None value=b'{\"emp_id\": \"f8062ee3-0e37-40e6-a65a-ccce2bf87dc4\", \"employee_name\": \"Sarah Hill\", \"department\": \"IT\", \"state\": \"CA\", \"salary\": 128457, \"age\": 20, \"bonus\": 11773, \"ts\": 792445708}'\n",
      "test-topic-1:0:24: key=None value=b'{\"emp_id\": \"eea48721-60d9-4b85-9c86-a237fde74fdf\", \"employee_name\": \"Monica Rivera\", \"department\": \"Marketing\", \"state\": \"TX\", \"salary\": 139393, \"age\": 58, \"bonus\": 44645, \"ts\": 1395704773}'\n",
      "test-topic-1:0:25: key=None value=b'{\"emp_id\": \"b1a9b1a8-0ae6-40a1-8ab4-4c5d55eec46d\", \"employee_name\": \"Chloe Avila DVM\", \"department\": \"IT\", \"state\": \"TX\", \"salary\": 58483, \"age\": 25, \"bonus\": 77698, \"ts\": 1629780452}'\n",
      "test-topic-1:0:26: key=None value=b'{\"emp_id\": \"e0ab5725-c1f5-4e93-9206-71ee57ea1555\", \"employee_name\": \"Rebecca Adkins\", \"department\": \"IT\", \"state\": \"NY\", \"salary\": 22589, \"age\": 36, \"bonus\": 75744, \"ts\": 530897631}'\n",
      "test-topic-1:0:27: key=None value=b'{\"emp_id\": \"3f13843d-8629-4aae-8734-6808b55fc13f\", \"employee_name\": \"Stephanie Lewis\", \"department\": \"IT\", \"state\": \"NY\", \"salary\": 10779, \"age\": 58, \"bonus\": 99999, \"ts\": 1173238282}'\n",
      "test-topic-1:0:28: key=None value=b'{\"emp_id\": \"68c8311d-9c94-45de-93e5-fd0e94d0bd62\", \"employee_name\": \"Nicholas Kane\", \"department\": \"HR\", \"state\": \"FL\", \"salary\": 144122, \"age\": 26, \"bonus\": 89194, \"ts\": 9958976}'\n"
     ]
    },
    {
     "ename": "KeyboardInterrupt",
     "evalue": "",
     "output_type": "error",
     "traceback": [
      "\u001b[0;31m---------------------------------------------------------------------------\u001b[0m",
      "\u001b[0;31mKeyboardInterrupt\u001b[0m                         Traceback (most recent call last)",
      "Cell \u001b[0;32mIn[7], line 1\u001b[0m\n\u001b[0;32m----> 1\u001b[0m \u001b[38;5;28;01mfor\u001b[39;00m message \u001b[38;5;129;01min\u001b[39;00m consumer:\n\u001b[1;32m      2\u001b[0m     \u001b[38;5;28mprint\u001b[39m (\u001b[38;5;124m\"\u001b[39m\u001b[38;5;132;01m%s\u001b[39;00m\u001b[38;5;124m:\u001b[39m\u001b[38;5;132;01m%d\u001b[39;00m\u001b[38;5;124m:\u001b[39m\u001b[38;5;132;01m%d\u001b[39;00m\u001b[38;5;124m: key=\u001b[39m\u001b[38;5;132;01m%s\u001b[39;00m\u001b[38;5;124m value=\u001b[39m\u001b[38;5;132;01m%s\u001b[39;00m\u001b[38;5;124m\"\u001b[39m \u001b[38;5;241m%\u001b[39m (message\u001b[38;5;241m.\u001b[39mtopic, message\u001b[38;5;241m.\u001b[39mpartition,\n\u001b[1;32m      3\u001b[0m                                           message\u001b[38;5;241m.\u001b[39moffset, message\u001b[38;5;241m.\u001b[39mkey,\n\u001b[1;32m      4\u001b[0m                                           message\u001b[38;5;241m.\u001b[39mvalue))\n",
      "File \u001b[0;32m/opt/conda/lib/python3.10/site-packages/kafka/consumer/group.py:1193\u001b[0m, in \u001b[0;36mKafkaConsumer.__next__\u001b[0;34m(self)\u001b[0m\n\u001b[1;32m   1191\u001b[0m     \u001b[38;5;28;01mreturn\u001b[39;00m \u001b[38;5;28mself\u001b[39m\u001b[38;5;241m.\u001b[39mnext_v1()\n\u001b[1;32m   1192\u001b[0m \u001b[38;5;28;01melse\u001b[39;00m:\n\u001b[0;32m-> 1193\u001b[0m     \u001b[38;5;28;01mreturn\u001b[39;00m \u001b[38;5;28;43mself\u001b[39;49m\u001b[38;5;241;43m.\u001b[39;49m\u001b[43mnext_v2\u001b[49m\u001b[43m(\u001b[49m\u001b[43m)\u001b[49m\n",
      "File \u001b[0;32m/opt/conda/lib/python3.10/site-packages/kafka/consumer/group.py:1201\u001b[0m, in \u001b[0;36mKafkaConsumer.next_v2\u001b[0;34m(self)\u001b[0m\n\u001b[1;32m   1199\u001b[0m     \u001b[38;5;28mself\u001b[39m\u001b[38;5;241m.\u001b[39m_iterator \u001b[38;5;241m=\u001b[39m \u001b[38;5;28mself\u001b[39m\u001b[38;5;241m.\u001b[39m_message_generator_v2()\n\u001b[1;32m   1200\u001b[0m \u001b[38;5;28;01mtry\u001b[39;00m:\n\u001b[0;32m-> 1201\u001b[0m     \u001b[38;5;28;01mreturn\u001b[39;00m \u001b[38;5;28;43mnext\u001b[39;49m\u001b[43m(\u001b[49m\u001b[38;5;28;43mself\u001b[39;49m\u001b[38;5;241;43m.\u001b[39;49m\u001b[43m_iterator\u001b[49m\u001b[43m)\u001b[49m\n\u001b[1;32m   1202\u001b[0m \u001b[38;5;28;01mexcept\u001b[39;00m \u001b[38;5;167;01mStopIteration\u001b[39;00m:\n\u001b[1;32m   1203\u001b[0m     \u001b[38;5;28mself\u001b[39m\u001b[38;5;241m.\u001b[39m_iterator \u001b[38;5;241m=\u001b[39m \u001b[38;5;28;01mNone\u001b[39;00m\n",
      "File \u001b[0;32m/opt/conda/lib/python3.10/site-packages/kafka/consumer/group.py:1116\u001b[0m, in \u001b[0;36mKafkaConsumer._message_generator_v2\u001b[0;34m(self)\u001b[0m\n\u001b[1;32m   1114\u001b[0m \u001b[38;5;28;01mdef\u001b[39;00m \u001b[38;5;21m_message_generator_v2\u001b[39m(\u001b[38;5;28mself\u001b[39m):\n\u001b[1;32m   1115\u001b[0m     timeout_ms \u001b[38;5;241m=\u001b[39m \u001b[38;5;241m1000\u001b[39m \u001b[38;5;241m*\u001b[39m (\u001b[38;5;28mself\u001b[39m\u001b[38;5;241m.\u001b[39m_consumer_timeout \u001b[38;5;241m-\u001b[39m time\u001b[38;5;241m.\u001b[39mtime())\n\u001b[0;32m-> 1116\u001b[0m     record_map \u001b[38;5;241m=\u001b[39m \u001b[38;5;28;43mself\u001b[39;49m\u001b[38;5;241;43m.\u001b[39;49m\u001b[43mpoll\u001b[49m\u001b[43m(\u001b[49m\u001b[43mtimeout_ms\u001b[49m\u001b[38;5;241;43m=\u001b[39;49m\u001b[43mtimeout_ms\u001b[49m\u001b[43m,\u001b[49m\u001b[43m \u001b[49m\u001b[43mupdate_offsets\u001b[49m\u001b[38;5;241;43m=\u001b[39;49m\u001b[38;5;28;43;01mFalse\u001b[39;49;00m\u001b[43m)\u001b[49m\n\u001b[1;32m   1117\u001b[0m     \u001b[38;5;28;01mfor\u001b[39;00m tp, records \u001b[38;5;129;01min\u001b[39;00m six\u001b[38;5;241m.\u001b[39miteritems(record_map):\n\u001b[1;32m   1118\u001b[0m         \u001b[38;5;66;03m# Generators are stateful, and it is possible that the tp / records\u001b[39;00m\n\u001b[1;32m   1119\u001b[0m         \u001b[38;5;66;03m# here may become stale during iteration -- i.e., we seek to a\u001b[39;00m\n\u001b[1;32m   1120\u001b[0m         \u001b[38;5;66;03m# different offset, pause consumption, or lose assignment.\u001b[39;00m\n\u001b[1;32m   1121\u001b[0m         \u001b[38;5;28;01mfor\u001b[39;00m record \u001b[38;5;129;01min\u001b[39;00m records:\n\u001b[1;32m   1122\u001b[0m             \u001b[38;5;66;03m# is_fetchable(tp) should handle assignment changes and offset\u001b[39;00m\n\u001b[1;32m   1123\u001b[0m             \u001b[38;5;66;03m# resets; for all other changes (e.g., seeks) we'll rely on the\u001b[39;00m\n\u001b[1;32m   1124\u001b[0m             \u001b[38;5;66;03m# outer function destroying the existing iterator/generator\u001b[39;00m\n\u001b[1;32m   1125\u001b[0m             \u001b[38;5;66;03m# via self._iterator = None\u001b[39;00m\n",
      "File \u001b[0;32m/opt/conda/lib/python3.10/site-packages/kafka/consumer/group.py:655\u001b[0m, in \u001b[0;36mKafkaConsumer.poll\u001b[0;34m(self, timeout_ms, max_records, update_offsets)\u001b[0m\n\u001b[1;32m    653\u001b[0m remaining \u001b[38;5;241m=\u001b[39m timeout_ms\n\u001b[1;32m    654\u001b[0m \u001b[38;5;28;01mwhile\u001b[39;00m \u001b[38;5;28;01mTrue\u001b[39;00m:\n\u001b[0;32m--> 655\u001b[0m     records \u001b[38;5;241m=\u001b[39m \u001b[38;5;28;43mself\u001b[39;49m\u001b[38;5;241;43m.\u001b[39;49m\u001b[43m_poll_once\u001b[49m\u001b[43m(\u001b[49m\u001b[43mremaining\u001b[49m\u001b[43m,\u001b[49m\u001b[43m \u001b[49m\u001b[43mmax_records\u001b[49m\u001b[43m,\u001b[49m\u001b[43m \u001b[49m\u001b[43mupdate_offsets\u001b[49m\u001b[38;5;241;43m=\u001b[39;49m\u001b[43mupdate_offsets\u001b[49m\u001b[43m)\u001b[49m\n\u001b[1;32m    656\u001b[0m     \u001b[38;5;28;01mif\u001b[39;00m records:\n\u001b[1;32m    657\u001b[0m         \u001b[38;5;28;01mreturn\u001b[39;00m records\n",
      "File \u001b[0;32m/opt/conda/lib/python3.10/site-packages/kafka/consumer/group.py:702\u001b[0m, in \u001b[0;36mKafkaConsumer._poll_once\u001b[0;34m(self, timeout_ms, max_records, update_offsets)\u001b[0m\n\u001b[1;32m    699\u001b[0m     \u001b[38;5;28mself\u001b[39m\u001b[38;5;241m.\u001b[39m_client\u001b[38;5;241m.\u001b[39mpoll(timeout_ms\u001b[38;5;241m=\u001b[39m\u001b[38;5;241m0\u001b[39m)\n\u001b[1;32m    701\u001b[0m timeout_ms \u001b[38;5;241m=\u001b[39m \u001b[38;5;28mmin\u001b[39m(timeout_ms, \u001b[38;5;28mself\u001b[39m\u001b[38;5;241m.\u001b[39m_coordinator\u001b[38;5;241m.\u001b[39mtime_to_next_poll() \u001b[38;5;241m*\u001b[39m \u001b[38;5;241m1000\u001b[39m)\n\u001b[0;32m--> 702\u001b[0m \u001b[38;5;28;43mself\u001b[39;49m\u001b[38;5;241;43m.\u001b[39;49m\u001b[43m_client\u001b[49m\u001b[38;5;241;43m.\u001b[39;49m\u001b[43mpoll\u001b[49m\u001b[43m(\u001b[49m\u001b[43mtimeout_ms\u001b[49m\u001b[38;5;241;43m=\u001b[39;49m\u001b[43mtimeout_ms\u001b[49m\u001b[43m)\u001b[49m\n\u001b[1;32m    703\u001b[0m \u001b[38;5;66;03m# after the long poll, we should check whether the group needs to rebalance\u001b[39;00m\n\u001b[1;32m    704\u001b[0m \u001b[38;5;66;03m# prior to returning data so that the group can stabilize faster\u001b[39;00m\n\u001b[1;32m    705\u001b[0m \u001b[38;5;28;01mif\u001b[39;00m \u001b[38;5;28mself\u001b[39m\u001b[38;5;241m.\u001b[39m_coordinator\u001b[38;5;241m.\u001b[39mneed_rejoin():\n",
      "File \u001b[0;32m/opt/conda/lib/python3.10/site-packages/kafka/client_async.py:602\u001b[0m, in \u001b[0;36mKafkaClient.poll\u001b[0;34m(self, timeout_ms, future)\u001b[0m\n\u001b[1;32m    599\u001b[0m             timeout \u001b[38;5;241m=\u001b[39m \u001b[38;5;28mmin\u001b[39m(timeout, \u001b[38;5;28mself\u001b[39m\u001b[38;5;241m.\u001b[39mconfig[\u001b[38;5;124m'\u001b[39m\u001b[38;5;124mretry_backoff_ms\u001b[39m\u001b[38;5;124m'\u001b[39m])\n\u001b[1;32m    600\u001b[0m         timeout \u001b[38;5;241m=\u001b[39m \u001b[38;5;28mmax\u001b[39m(\u001b[38;5;241m0\u001b[39m, timeout)  \u001b[38;5;66;03m# avoid negative timeouts\u001b[39;00m\n\u001b[0;32m--> 602\u001b[0m     \u001b[38;5;28;43mself\u001b[39;49m\u001b[38;5;241;43m.\u001b[39;49m\u001b[43m_poll\u001b[49m\u001b[43m(\u001b[49m\u001b[43mtimeout\u001b[49m\u001b[43m \u001b[49m\u001b[38;5;241;43m/\u001b[39;49m\u001b[43m \u001b[49m\u001b[38;5;241;43m1000\u001b[39;49m\u001b[43m)\u001b[49m\n\u001b[1;32m    604\u001b[0m \u001b[38;5;66;03m# called without the lock to avoid deadlock potential\u001b[39;00m\n\u001b[1;32m    605\u001b[0m \u001b[38;5;66;03m# if handlers need to acquire locks\u001b[39;00m\n\u001b[1;32m    606\u001b[0m responses\u001b[38;5;241m.\u001b[39mextend(\u001b[38;5;28mself\u001b[39m\u001b[38;5;241m.\u001b[39m_fire_pending_completed_requests())\n",
      "File \u001b[0;32m/opt/conda/lib/python3.10/site-packages/kafka/client_async.py:634\u001b[0m, in \u001b[0;36mKafkaClient._poll\u001b[0;34m(self, timeout)\u001b[0m\n\u001b[1;32m    631\u001b[0m \u001b[38;5;28mself\u001b[39m\u001b[38;5;241m.\u001b[39m_register_send_sockets()\n\u001b[1;32m    633\u001b[0m start_select \u001b[38;5;241m=\u001b[39m time\u001b[38;5;241m.\u001b[39mtime()\n\u001b[0;32m--> 634\u001b[0m ready \u001b[38;5;241m=\u001b[39m \u001b[38;5;28;43mself\u001b[39;49m\u001b[38;5;241;43m.\u001b[39;49m\u001b[43m_selector\u001b[49m\u001b[38;5;241;43m.\u001b[39;49m\u001b[43mselect\u001b[49m\u001b[43m(\u001b[49m\u001b[43mtimeout\u001b[49m\u001b[43m)\u001b[49m\n\u001b[1;32m    635\u001b[0m end_select \u001b[38;5;241m=\u001b[39m time\u001b[38;5;241m.\u001b[39mtime()\n\u001b[1;32m    636\u001b[0m \u001b[38;5;28;01mif\u001b[39;00m \u001b[38;5;28mself\u001b[39m\u001b[38;5;241m.\u001b[39m_sensors:\n",
      "File \u001b[0;32m/opt/conda/lib/python3.10/selectors.py:469\u001b[0m, in \u001b[0;36mEpollSelector.select\u001b[0;34m(self, timeout)\u001b[0m\n\u001b[1;32m    467\u001b[0m ready \u001b[38;5;241m=\u001b[39m []\n\u001b[1;32m    468\u001b[0m \u001b[38;5;28;01mtry\u001b[39;00m:\n\u001b[0;32m--> 469\u001b[0m     fd_event_list \u001b[38;5;241m=\u001b[39m \u001b[38;5;28;43mself\u001b[39;49m\u001b[38;5;241;43m.\u001b[39;49m\u001b[43m_selector\u001b[49m\u001b[38;5;241;43m.\u001b[39;49m\u001b[43mpoll\u001b[49m\u001b[43m(\u001b[49m\u001b[43mtimeout\u001b[49m\u001b[43m,\u001b[49m\u001b[43m \u001b[49m\u001b[43mmax_ev\u001b[49m\u001b[43m)\u001b[49m\n\u001b[1;32m    470\u001b[0m \u001b[38;5;28;01mexcept\u001b[39;00m \u001b[38;5;167;01mInterruptedError\u001b[39;00m:\n\u001b[1;32m    471\u001b[0m     \u001b[38;5;28;01mreturn\u001b[39;00m ready\n",
      "\u001b[0;31mKeyboardInterrupt\u001b[0m: "
     ]
    }
   ],
   "source": [
    "for message in consumer:\n",
    "    print (\"%s:%d:%d: key=%s value=%s\" % (message.topic, message.partition,\n",
    "                                          message.offset, message.key,\n",
    "                                          message.value))"
   ]
  }
 ],
 "metadata": {
  "kernelspec": {
   "display_name": "Python 3 (ipykernel)",
   "language": "python",
   "name": "python3"
  },
  "language_info": {
   "codemirror_mode": {
    "name": "ipython",
    "version": 3
   },
   "file_extension": ".py",
   "mimetype": "text/x-python",
   "name": "python",
   "nbconvert_exporter": "python",
   "pygments_lexer": "ipython3",
   "version": "3.10.10"
  }
 },
 "nbformat": 4,
 "nbformat_minor": 5
}
