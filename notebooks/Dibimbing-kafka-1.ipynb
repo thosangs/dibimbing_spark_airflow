{
 "cells": [
  {
   "cell_type": "code",
   "execution_count": 1,
   "id": "25846da4-c6b2-46a5-b7d1-9809732bb1b9",
   "metadata": {
    "tags": []
   },
   "outputs": [],
   "source": [
    "import json\n",
    "import uuid\n",
    "import os\n",
    "import json\n",
    "from dotenv import load_dotenv\n",
    "from pathlib import Path\n",
    "from kafka import KafkaProducer\n",
    "from faker import Faker\n",
    "from time import sleep"
   ]
  },
  {
   "cell_type": "code",
   "execution_count": 5,
   "id": "da499fb3-553c-4cae-8588-262f9ef443c1",
   "metadata": {
    "tags": []
   },
   "outputs": [
    {
     "name": "stdout",
     "output_type": "stream",
     "text": [
      "kafka-python==2.0.2\n"
     ]
    }
   ],
   "source": [
    "!pip freeze | grep kafka"
   ]
  },
  {
   "cell_type": "code",
   "execution_count": 2,
   "id": "42f97822-c06f-47e0-a0a4-87a7bf1d95a9",
   "metadata": {
    "tags": []
   },
   "outputs": [
    {
     "data": {
      "text/plain": [
       "True"
      ]
     },
     "execution_count": 2,
     "metadata": {},
     "output_type": "execute_result"
    }
   ],
   "source": [
    "dotenv_path = Path('/resources/.env')\n",
    "load_dotenv(dotenv_path=dotenv_path)"
   ]
  },
  {
   "cell_type": "code",
   "execution_count": 3,
   "id": "3f89f5a9-8c75-4a38-b48d-ad72c6a13c41",
   "metadata": {
    "tags": []
   },
   "outputs": [],
   "source": [
    "kafka_host = os.getenv('KAFKA_HOST')\n",
    "# kafka_topic = os.getenv('KAFKA_TOPIC_NAME')\n",
    "# kafka_topic_partition = os.getenv('KAFKA_TOPIC_NAME')+\"-1\"\n",
    "kafka_topic_partition = \"dibimbing_batch_10\""
   ]
  },
  {
   "cell_type": "code",
   "execution_count": 4,
   "id": "a4a59d22-69c5-4e0a-b1e2-d0d77867c45b",
   "metadata": {
    "tags": []
   },
   "outputs": [
    {
     "name": "stdout",
     "output_type": "stream",
     "text": [
      "dataeng-kafka dibimbing_batch_10\n"
     ]
    }
   ],
   "source": [
    "print(kafka_host, kafka_topic_partition)"
   ]
  },
  {
   "cell_type": "code",
   "execution_count": 6,
   "id": "8515096d-3bc6-4905-98f5-eb1e6d7bfa4c",
   "metadata": {
    "tags": []
   },
   "outputs": [
    {
     "name": "stdout",
     "output_type": "stream",
     "text": [
      "<kafka.producer.kafka.KafkaProducer object at 0xffffa5951900>\n"
     ]
    }
   ],
   "source": [
    "producer = KafkaProducer(bootstrap_servers=f'{kafka_host}:9092')\n",
    "print(producer)"
   ]
  },
  {
   "cell_type": "code",
   "execution_count": 7,
   "id": "78075b5c-08c8-4c43-99a1-0689a87414c4",
   "metadata": {
    "tags": []
   },
   "outputs": [],
   "source": [
    "_instance = Faker()\n",
    "global faker\n",
    "faker = Faker()"
   ]
  },
  {
   "cell_type": "code",
   "execution_count": 15,
   "id": "503ade79-0f77-4970-8e04-ecefce397398",
   "metadata": {
    "tags": []
   },
   "outputs": [
    {
     "name": "stdout",
     "output_type": "stream",
     "text": [
      "b'{\"emp_id\": \"11982201-ba92-44b4-9c46-95b53fce42bb\", \"employee_name\": \"Deborah Russell\", \"department\": \"IT\", \"state\": \"RJ\", \"salary\": 68362, \"age\": 34, \"bonus\": 88969, \"ts\": 825842391}' RecordMetadata(topic='dibimbing_batch_10', partition=0, topic_partition=TopicPartition(topic='dibimbing_batch_10', partition=0), offset=71, timestamp=1749874583056, log_start_offset=0, checksum=None, serialized_key_size=-1, serialized_value_size=182, serialized_header_size=-1)\n",
      "b'{\"emp_id\": \"80d4ef0b-973a-4dc4-9c19-b8c9da071e38\", \"employee_name\": \"Paul Hanson\", \"department\": \"Sales\", \"state\": \"CA\", \"salary\": 149511, \"age\": 37, \"bonus\": 97977, \"ts\": 78012427}' RecordMetadata(topic='dibimbing_batch_10', partition=0, topic_partition=TopicPartition(topic='dibimbing_batch_10', partition=0), offset=72, timestamp=1749874588083, log_start_offset=0, checksum=None, serialized_key_size=-1, serialized_value_size=181, serialized_header_size=-1)\n",
      "b'{\"emp_id\": \"42a8d9aa-bab3-4c63-be7d-d1570e87b6fd\", \"employee_name\": \"Philip Huerta\", \"department\": \"Sales\", \"state\": \"IL\", \"salary\": 53094, \"age\": 26, \"bonus\": 52636, \"ts\": 1172924597}' RecordMetadata(topic='dibimbing_batch_10', partition=0, topic_partition=TopicPartition(topic='dibimbing_batch_10', partition=0), offset=73, timestamp=1749874593103, log_start_offset=0, checksum=None, serialized_key_size=-1, serialized_value_size=184, serialized_header_size=-1)\n",
      "b'{\"emp_id\": \"a66f1688-7238-48ed-8316-a199f9655a76\", \"employee_name\": \"Denise Reid\", \"department\": \"HR\", \"state\": \"FL\", \"salary\": 31191, \"age\": 23, \"bonus\": 12281, \"ts\": 936768768}' RecordMetadata(topic='dibimbing_batch_10', partition=0, topic_partition=TopicPartition(topic='dibimbing_batch_10', partition=0), offset=74, timestamp=1749874598118, log_start_offset=0, checksum=None, serialized_key_size=-1, serialized_value_size=178, serialized_header_size=-1)\n",
      "b'{\"emp_id\": \"08b39b57-e341-4ea1-bd20-92265262ca0a\", \"employee_name\": \"Benjamin Brown\", \"department\": \"IT\", \"state\": \"TX\", \"salary\": 65367, \"age\": 29, \"bonus\": 22631, \"ts\": 1332848360}' RecordMetadata(topic='dibimbing_batch_10', partition=0, topic_partition=TopicPartition(topic='dibimbing_batch_10', partition=0), offset=75, timestamp=1749874603135, log_start_offset=0, checksum=None, serialized_key_size=-1, serialized_value_size=182, serialized_header_size=-1)\n",
      "b'{\"emp_id\": \"08644c9f-6694-451e-b628-2b8f9a57512c\", \"employee_name\": \"Blake Frederick\", \"department\": \"Marketing\", \"state\": \"CA\", \"salary\": 52941, \"age\": 56, \"bonus\": 52473, \"ts\": 657783901}' RecordMetadata(topic='dibimbing_batch_10', partition=0, topic_partition=TopicPartition(topic='dibimbing_batch_10', partition=0), offset=76, timestamp=1749874608145, log_start_offset=0, checksum=None, serialized_key_size=-1, serialized_value_size=189, serialized_header_size=-1)\n"
     ]
    },
    {
     "ename": "KeyboardInterrupt",
     "evalue": "",
     "output_type": "error",
     "traceback": [
      "\u001b[0;31m---------------------------------------------------------------------------\u001b[0m",
      "\u001b[0;31mKeyboardInterrupt\u001b[0m                         Traceback (most recent call last)",
      "Cell \u001b[0;32mIn[15], line 26\u001b[0m\n\u001b[1;32m     24\u001b[0m \u001b[38;5;28mprint\u001b[39m(_payload,response\u001b[38;5;241m.\u001b[39mget())\n\u001b[1;32m     25\u001b[0m \u001b[38;5;66;03m# print(_payload)\u001b[39;00m\n\u001b[0;32m---> 26\u001b[0m \u001b[43msleep\u001b[49m\u001b[43m(\u001b[49m\u001b[38;5;241;43m5\u001b[39;49m\u001b[43m)\u001b[49m\n",
      "\u001b[0;31mKeyboardInterrupt\u001b[0m: "
     ]
    }
   ],
   "source": [
    "class DataGenerator(object):\n",
    "    @staticmethod\n",
    "    def get_data():\n",
    "        return [\n",
    "                uuid.uuid4().__str__(),\n",
    "                faker.name(),\n",
    "                faker.random_element(elements=('IT', 'HR', 'Sales', 'Marketing')),\n",
    "                faker.random_element(elements=('CA', 'NY', 'TX', 'FL', 'IL', 'RJ')),\n",
    "                faker.random_int(min=10000, max=150000),\n",
    "                faker.random_int(min=18, max=60),\n",
    "                faker.random_int(min=0, max=100000),\n",
    "                faker.unix_time()\n",
    "        ]\n",
    "\n",
    "for i in range(1,400):\n",
    "    columns =  [\"emp_id\", \"employee_name\", \"department\", \"state\", \"salary\", \"age\", \"bonus\", \"ts\", \"new\"]\n",
    "    data_list = DataGenerator.get_data()\n",
    "    json_data = dict(\n",
    "        zip(columns,data_list)\n",
    "    )\n",
    "    _payload = json.dumps(json_data).encode(\"utf-8\")\n",
    "    response = producer.send(topic=kafka_topic_partition, value=_payload)\n",
    "    # response = producer.send(topic=kafka_topic_partition, value=_payload, partition=2)\n",
    "    print(_payload,response.get())\n",
    "    # print(_payload)\n",
    "    sleep(5)"
   ]
  },
  {
   "cell_type": "code",
   "execution_count": null,
   "id": "be1f121f-6f90-441c-a027-c095f5903ac9",
   "metadata": {},
   "outputs": [],
   "source": []
  }
 ],
 "metadata": {
  "kernelspec": {
   "display_name": "Python 3 (ipykernel)",
   "language": "python",
   "name": "python3"
  },
  "language_info": {
   "codemirror_mode": {
    "name": "ipython",
    "version": 3
   },
   "file_extension": ".py",
   "mimetype": "text/x-python",
   "name": "python",
   "nbconvert_exporter": "python",
   "pygments_lexer": "ipython3",
   "version": "3.10.10"
  }
 },
 "nbformat": 4,
 "nbformat_minor": 5
}
