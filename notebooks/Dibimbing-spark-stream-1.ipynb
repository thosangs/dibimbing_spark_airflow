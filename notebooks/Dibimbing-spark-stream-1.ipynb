{
 "cells": [
  {
   "cell_type": "markdown",
   "metadata": {},
   "source": [
    "# Initialization"
   ]
  },
  {
   "cell_type": "code",
   "execution_count": 1,
   "metadata": {
    "tags": []
   },
   "outputs": [],
   "source": [
    "import pyspark\n",
    "sparkcontext = pyspark.SparkContext.getOrCreate(conf=(\n",
    "        pyspark\n",
    "        .SparkConf()\n",
    "        .setAppName('Dibimbing')\n",
    "        .setMaster('local')\n",
    "    ))\n",
    "sparkcontext.setLogLevel(\"WARN\")\n",
    "\n",
    "spark = pyspark.sql.SparkSession(sparkcontext.getOrCreate())"
   ]
  },
  {
   "cell_type": "code",
   "execution_count": 2,
   "metadata": {
    "tags": []
   },
   "outputs": [
    {
     "data": {
      "text/html": [
       "\n",
       "            <div>\n",
       "                <p><b>SparkSession - in-memory</b></p>\n",
       "                \n",
       "        <div>\n",
       "            <p><b>SparkContext</b></p>\n",
       "\n",
       "            <p><a href=\"http://dibimbing-jupyter:4040\">Spark UI</a></p>\n",
       "\n",
       "            <dl>\n",
       "              <dt>Version</dt>\n",
       "                <dd><code>v3.3.2</code></dd>\n",
       "              <dt>Master</dt>\n",
       "                <dd><code>local</code></dd>\n",
       "              <dt>AppName</dt>\n",
       "                <dd><code>Dibimbing</code></dd>\n",
       "            </dl>\n",
       "        </div>\n",
       "        \n",
       "            </div>\n",
       "        "
      ],
      "text/plain": [
       "<pyspark.sql.session.SparkSession at 0xffffa45fb370>"
      ]
     },
     "execution_count": 2,
     "metadata": {},
     "output_type": "execute_result"
    }
   ],
   "source": [
    "spark"
   ]
  },
  {
   "cell_type": "markdown",
   "metadata": {},
   "source": [
    "# Data Load"
   ]
  },
  {
   "cell_type": "code",
   "execution_count": 3,
   "metadata": {
    "tags": []
   },
   "outputs": [
    {
     "name": "stdout",
     "output_type": "stream",
     "text": [
      "_committed_730451297822678341\n",
      "part-00000-tid-730451297822678341-1dda7027-2071-4d73-a0e2-7fb6a91e1d1f-0-c000.json\n",
      "part-00001-tid-730451297822678341-1dda7027-2071-4d73-a0e2-7fb6a91e1d1f-0-c000 copy.json\n",
      "part-00001-tid-730451297822678341-1dda7027-2071-4d73-a0e2-7fb6a91e1d1f-0-c000.json\n",
      "part-00002-tid-730451297822678341-1dda7027-2071-4d73-a0e2-7fb6a91e1d1f-0-c000.json\n",
      "part-00003-tid-730451297822678341-1dda7027-2071-4d73-a0e2-7fb6a91e1d1f-0-c000.json\n",
      "part-00004-tid-730451297822678341-1dda7027-2071-4d73-a0e2-7fb6a91e1d1f-0-c000.json\n",
      "part-00005-tid-730451297822678341-1dda7027-2071-4d73-a0e2-7fb6a91e1d1f-0-c000.json\n",
      "part-00006-tid-730451297822678341-1dda7027-2071-4d73-a0e2-7fb6a91e1d1f-0-c000.json\n",
      "part-00007-tid-730451297822678341-1dda7027-2071-4d73-a0e2-7fb6a91e1d1f-0-c000.json\n"
     ]
    }
   ],
   "source": [
    "!ls /resources/data/activity-data/ | head -10"
   ]
  },
  {
   "cell_type": "code",
   "execution_count": 4,
   "metadata": {
    "tags": []
   },
   "outputs": [
    {
     "name": "stdout",
     "output_type": "stream",
     "text": [
      "StructType([StructField('Arrival_Time', LongType(), True), StructField('Creation_Time', LongType(), True), StructField('Device', StringType(), True), StructField('Index', LongType(), True), StructField('Model', StringType(), True), StructField('User', StringType(), True), StructField('gt', StringType(), True), StructField('x', DoubleType(), True), StructField('y', DoubleType(), True), StructField('z', DoubleType(), True)])\n"
     ]
    }
   ],
   "source": [
    "static = spark.read.json('/resources/data/activity-data/')\n",
    "dataSchema = static.schema\n",
    "print(dataSchema)"
   ]
  },
  {
   "cell_type": "code",
   "execution_count": 6,
   "metadata": {
    "tags": []
   },
   "outputs": [
    {
     "data": {
      "text/html": [
       "<div>\n",
       "<style scoped>\n",
       "    .dataframe tbody tr th:only-of-type {\n",
       "        vertical-align: middle;\n",
       "    }\n",
       "\n",
       "    .dataframe tbody tr th {\n",
       "        vertical-align: top;\n",
       "    }\n",
       "\n",
       "    .dataframe thead th {\n",
       "        text-align: right;\n",
       "    }\n",
       "</style>\n",
       "<table border=\"1\" class=\"dataframe\">\n",
       "  <thead>\n",
       "    <tr style=\"text-align: right;\">\n",
       "      <th></th>\n",
       "      <th>Arrival_Time</th>\n",
       "      <th>Creation_Time</th>\n",
       "      <th>Device</th>\n",
       "      <th>Index</th>\n",
       "      <th>Model</th>\n",
       "      <th>User</th>\n",
       "      <th>gt</th>\n",
       "      <th>x</th>\n",
       "      <th>y</th>\n",
       "      <th>z</th>\n",
       "    </tr>\n",
       "  </thead>\n",
       "  <tbody>\n",
       "    <tr>\n",
       "      <th>0</th>\n",
       "      <td>1424686735011</td>\n",
       "      <td>1424686733015076670</td>\n",
       "      <td>nexus4_1</td>\n",
       "      <td>3</td>\n",
       "      <td>nexus4</td>\n",
       "      <td>g</td>\n",
       "      <td>stand</td>\n",
       "      <td>0.001404</td>\n",
       "      <td>0.031479</td>\n",
       "      <td>0.011093</td>\n",
       "    </tr>\n",
       "    <tr>\n",
       "      <th>1</th>\n",
       "      <td>1424686735214</td>\n",
       "      <td>1424688581265321168</td>\n",
       "      <td>nexus4_2</td>\n",
       "      <td>50</td>\n",
       "      <td>nexus4</td>\n",
       "      <td>g</td>\n",
       "      <td>stand</td>\n",
       "      <td>-0.008926</td>\n",
       "      <td>-0.040344</td>\n",
       "      <td>0.003433</td>\n",
       "    </tr>\n",
       "    <tr>\n",
       "      <th>2</th>\n",
       "      <td>1424686735420</td>\n",
       "      <td>1424688581471925172</td>\n",
       "      <td>nexus4_2</td>\n",
       "      <td>91</td>\n",
       "      <td>nexus4</td>\n",
       "      <td>g</td>\n",
       "      <td>stand</td>\n",
       "      <td>-0.000381</td>\n",
       "      <td>-0.001892</td>\n",
       "      <td>-0.015793</td>\n",
       "    </tr>\n",
       "    <tr>\n",
       "      <th>3</th>\n",
       "      <td>1424686735618</td>\n",
       "      <td>1424686733619416269</td>\n",
       "      <td>nexus4_1</td>\n",
       "      <td>123</td>\n",
       "      <td>nexus4</td>\n",
       "      <td>g</td>\n",
       "      <td>stand</td>\n",
       "      <td>0.000336</td>\n",
       "      <td>-0.030472</td>\n",
       "      <td>-0.025223</td>\n",
       "    </tr>\n",
       "    <tr>\n",
       "      <th>4</th>\n",
       "      <td>1424686735821</td>\n",
       "      <td>1424688581874604615</td>\n",
       "      <td>nexus4_2</td>\n",
       "      <td>171</td>\n",
       "      <td>nexus4</td>\n",
       "      <td>g</td>\n",
       "      <td>stand</td>\n",
       "      <td>0.003891</td>\n",
       "      <td>-0.013641</td>\n",
       "      <td>0.014114</td>\n",
       "    </tr>\n",
       "  </tbody>\n",
       "</table>\n",
       "</div>"
      ],
      "text/plain": [
       "    Arrival_Time        Creation_Time    Device  Index   Model User     gt   \n",
       "0  1424686735011  1424686733015076670  nexus4_1      3  nexus4    g  stand  \\\n",
       "1  1424686735214  1424688581265321168  nexus4_2     50  nexus4    g  stand   \n",
       "2  1424686735420  1424688581471925172  nexus4_2     91  nexus4    g  stand   \n",
       "3  1424686735618  1424686733619416269  nexus4_1    123  nexus4    g  stand   \n",
       "4  1424686735821  1424688581874604615  nexus4_2    171  nexus4    g  stand   \n",
       "\n",
       "          x         y         z  \n",
       "0  0.001404  0.031479  0.011093  \n",
       "1 -0.008926 -0.040344  0.003433  \n",
       "2 -0.000381 -0.001892 -0.015793  \n",
       "3  0.000336 -0.030472 -0.025223  \n",
       "4  0.003891 -0.013641  0.014114  "
      ]
     },
     "execution_count": 6,
     "metadata": {},
     "output_type": "execute_result"
    }
   ],
   "source": [
    "static.toPandas().head()"
   ]
  },
  {
   "cell_type": "code",
   "execution_count": 10,
   "metadata": {
    "tags": []
   },
   "outputs": [
    {
     "data": {
      "text/plain": [
       "[Row(Arrival_Time=1424789459822, Creation_Time=1424791305142092507, Device='nexus4_2', Index=396182, Model='nexus4', User='e', gt='bike', x=0.027862549, y=-0.53941345, z=0.23950195),\n",
       " Row(Arrival_Time=1424789460017, Creation_Time=1424791305336825173, Device='nexus4_2', Index=396221, Model='nexus4', User='e', gt='bike', x=-1.2346497, y=0.6355133, z=-0.21444702),\n",
       " Row(Arrival_Time=1424789460218, Creation_Time=1424791305538241189, Device='nexus4_2', Index=396261, Model='nexus4', User='e', gt='bike', x=-0.85546875, y=-0.82032776, z=-0.5936279),\n",
       " Row(Arrival_Time=1424789460424, Creation_Time=1424791305739840310, Device='nexus4_2', Index=396301, Model='nexus4', User='e', gt='bike', x=0.98809814, y=0.65153503, z=0.093170166),\n",
       " Row(Arrival_Time=1424789460621, Creation_Time=1424791305941073220, Device='nexus4_2', Index=396341, Model='nexus4', User='e', gt='bike', x=1.1579285, y=-0.37278748, z=0.30252075)]"
      ]
     },
     "execution_count": 10,
     "metadata": {},
     "output_type": "execute_result"
    }
   ],
   "source": [
    "static.tail(5)"
   ]
  },
  {
   "cell_type": "markdown",
   "metadata": {},
   "source": [
    "Metadata for the dataset\n",
    "\n",
    "| Column | Description |\n",
    "| --- | ----------- |\n",
    "| Index         |  The row number.\n",
    "| Arrival_Time  |  The time the measurement arrived to the sensing application\n",
    "| Creation_Time |  The timestamp the OS attaches to the sample\n",
    "| X,Y,Z | The values provided by the sensor for the three axes, X,y,z\n",
    "| User          |  The user this sample originates from, the users are named a to i.\n",
    "| Model         |  The phone/watch model this sample originates from\n",
    "| Device        |  The specific device this sample is from. They are prefixed with the model name and then the number, e.g., nexus4_1 or nexus4_2.\n",
    "| Gt            |  The activity the user was performing: bike sit, stand, walk, stairsup, stairsdown and null"
   ]
  },
  {
   "cell_type": "markdown",
   "metadata": {},
   "source": [
    "# Structured Streaming"
   ]
  },
  {
   "cell_type": "markdown",
   "metadata": {},
   "source": [
    "### Mock File Streaming (Throttle)"
   ]
  },
  {
   "cell_type": "code",
   "execution_count": 9,
   "metadata": {
    "tags": []
   },
   "outputs": [],
   "source": [
    "# static = (\n",
    "#     spark\n",
    "#     .read\n",
    "#     .json('/resources/data/activity-data/')\n",
    "# )\n",
    "\n",
    "streaming = (\n",
    "    spark\n",
    "    .readStream\n",
    "    .schema(dataSchema)\n",
    "    .option('maxFilesPerTrigger', 1)\n",
    "    .json('/resources/data/activity-data/')\n",
    ")"
   ]
  },
  {
   "cell_type": "markdown",
   "metadata": {
    "tags": []
   },
   "source": [
    "### Simple Aggregations"
   ]
  },
  {
   "cell_type": "code",
   "execution_count": 10,
   "metadata": {
    "tags": []
   },
   "outputs": [],
   "source": [
    "# set partitions\n",
    "spark.conf.set('spark.sql.shuffle.partitions', 5)"
   ]
  },
  {
   "cell_type": "code",
   "execution_count": 22,
   "metadata": {
    "tags": []
   },
   "outputs": [],
   "source": [
    "activityCounts = streaming.select('index').distinct()\n",
    "activityQuery = (\n",
    "    activityCounts\n",
    "    .writeStream\n",
    "    .queryName('activity_counts_7')\n",
    "    .format('memory')\n",
    "    .outputMode('append')\n",
    "    .start()\n",
    ")\n",
    "\n",
    "# activityQuery.awaitTermination()"
   ]
  },
  {
   "cell_type": "code",
   "execution_count": 25,
   "metadata": {
    "tags": []
   },
   "outputs": [],
   "source": [
    "# activityQuery.awaitTermination()\n",
    "activityQuery.stop()"
   ]
  },
  {
   "cell_type": "code",
   "execution_count": 26,
   "metadata": {
    "tags": []
   },
   "outputs": [
    {
     "name": "stdout",
     "output_type": "stream",
     "text": [
      "+--------+\n",
      "|count(1)|\n",
      "+--------+\n",
      "|  365736|\n",
      "+--------+\n",
      "\n",
      "+--------+\n",
      "|count(1)|\n",
      "+--------+\n",
      "|  365736|\n",
      "+--------+\n",
      "\n",
      "+--------+\n",
      "|count(1)|\n",
      "+--------+\n",
      "|  365736|\n",
      "+--------+\n",
      "\n",
      "+--------+\n",
      "|count(1)|\n",
      "+--------+\n",
      "|  365736|\n",
      "+--------+\n",
      "\n",
      "+--------+\n",
      "|count(1)|\n",
      "+--------+\n",
      "|  365736|\n",
      "+--------+\n",
      "\n"
     ]
    }
   ],
   "source": [
    "from time import sleep\n",
    "for x in range(5):\n",
    "    spark.sql(\"SELECT COUNT(*) FROM activity_counts_7\").show()\n",
    "    sleep(1)"
   ]
  },
  {
   "cell_type": "markdown",
   "metadata": {
    "jp-MarkdownHeadingCollapsed": true,
    "tags": []
   },
   "source": [
    "### Complex Aggregation"
   ]
  },
  {
   "cell_type": "code",
   "execution_count": 22,
   "metadata": {
    "tags": []
   },
   "outputs": [],
   "source": [
    "from pyspark.sql.functions import expr\n",
    "\n",
    "simpleTransform = (\n",
    "    streaming\n",
    "    .withColumn('stairs', expr(\"gt like '%stairs%'\"))\n",
    "    .where('stairs')\n",
    "    .where('gt is not null')\n",
    "    .select('gt', 'model', 'arrival_time', 'creation_time')\n",
    "    .writeStream\n",
    "    .queryName('simple_transform')\n",
    "    .format('memory')\n",
    "    .outputMode('append')\n",
    "    .start()\n",
    ")"
   ]
  },
  {
   "cell_type": "code",
   "execution_count": 24,
   "metadata": {
    "tags": []
   },
   "outputs": [
    {
     "name": "stdout",
     "output_type": "stream",
     "text": [
      "+--------+------+-------------+-------------------+\n",
      "|      gt| model| arrival_time|      creation_time|\n",
      "+--------+------+-------------+-------------------+\n",
      "|stairsup|nexus4|1424687983719|1424687981726802718|\n",
      "|stairsup|nexus4|1424687984000|1424687982009853255|\n",
      "|stairsup|nexus4|1424687984404|1424687982411977009|\n",
      "|stairsup|nexus4|1424687984805|1424687982814351277|\n",
      "|stairsup|nexus4|1424687985210|1424687983217500861|\n",
      "|stairsup|nexus4|1424687985620|1424687983620332892|\n",
      "|stairsup|nexus4|1424687986016|1424687984023164923|\n",
      "|stairsup|nexus4|1424687986420|1424687984425874884|\n",
      "|stairsup|nexus4|1424687986820|1424687984828822915|\n",
      "|stairsup|nexus4|1424687987225|1424687985231654946|\n",
      "|stairsup|nexus4|1424687987625|1424687985634469017|\n",
      "|stairsup|nexus4|1424687987992|1424687986002114280|\n",
      "|stairsup|nexus4|1424687988191|1424689834237427627|\n",
      "|stairsup|nexus4|1424687988392|1424689834438660537|\n",
      "|stairsup|nexus4|1424687988592|1424689834640076553|\n",
      "|stairsup|nexus4|1424687988794|1424689834841675674|\n",
      "|stairsup|nexus4|1424687988999|1424689835047943984|\n",
      "|stairsup|nexus4|1424687989200|1424687987205721701|\n",
      "|stairsup|nexus4|1424687989409|1424689835458070221|\n",
      "|stairsup|nexus4|1424687989606|1424687987613772238|\n",
      "+--------+------+-------------+-------------------+\n",
      "only showing top 20 rows\n",
      "\n",
      "+--------+------+-------------+-------------------+\n",
      "|      gt| model| arrival_time|      creation_time|\n",
      "+--------+------+-------------+-------------------+\n",
      "|stairsup|nexus4|1424687983719|1424687981726802718|\n",
      "|stairsup|nexus4|1424687984000|1424687982009853255|\n",
      "|stairsup|nexus4|1424687984404|1424687982411977009|\n",
      "|stairsup|nexus4|1424687984805|1424687982814351277|\n",
      "|stairsup|nexus4|1424687985210|1424687983217500861|\n",
      "|stairsup|nexus4|1424687985620|1424687983620332892|\n",
      "|stairsup|nexus4|1424687986016|1424687984023164923|\n",
      "|stairsup|nexus4|1424687986420|1424687984425874884|\n",
      "|stairsup|nexus4|1424687986820|1424687984828822915|\n",
      "|stairsup|nexus4|1424687987225|1424687985231654946|\n",
      "|stairsup|nexus4|1424687987625|1424687985634469017|\n",
      "|stairsup|nexus4|1424687987992|1424687986002114280|\n",
      "|stairsup|nexus4|1424687988191|1424689834237427627|\n",
      "|stairsup|nexus4|1424687988392|1424689834438660537|\n",
      "|stairsup|nexus4|1424687988592|1424689834640076553|\n",
      "|stairsup|nexus4|1424687988794|1424689834841675674|\n",
      "|stairsup|nexus4|1424687988999|1424689835047943984|\n",
      "|stairsup|nexus4|1424687989200|1424687987205721701|\n",
      "|stairsup|nexus4|1424687989409|1424689835458070221|\n",
      "|stairsup|nexus4|1424687989606|1424687987613772238|\n",
      "+--------+------+-------------+-------------------+\n",
      "only showing top 20 rows\n",
      "\n"
     ]
    }
   ],
   "source": [
    "for x in range(2):\n",
    "    spark.sql(\"SELECT * FROM simple_transform\").show()\n",
    "    sleep(1)"
   ]
  },
  {
   "cell_type": "code",
   "execution_count": 27,
   "metadata": {
    "tags": []
   },
   "outputs": [],
   "source": [
    "deviceModelStats = (\n",
    "    streaming\n",
    "    .groupBy('gt')\n",
    "    .count()\n",
    "    .writeStream\n",
    "    .queryName('device_counts')\n",
    "    .format('memory')\n",
    "    .outputMode('complete')\n",
    "    .start()\n",
    ")"
   ]
  },
  {
   "cell_type": "code",
   "execution_count": 26,
   "metadata": {
    "tags": []
   },
   "outputs": [],
   "source": [
    "deviceModelStats.stop()"
   ]
  },
  {
   "cell_type": "code",
   "execution_count": 28,
   "metadata": {
    "tags": []
   },
   "outputs": [
    {
     "name": "stdout",
     "output_type": "stream",
     "text": [
      "+---+-----+\n",
      "| gt|count|\n",
      "+---+-----+\n",
      "+---+-----+\n",
      "\n",
      "+---+-----+\n",
      "| gt|count|\n",
      "+---+-----+\n",
      "+---+-----+\n",
      "\n",
      "+---+-----+\n",
      "| gt|count|\n",
      "+---+-----+\n",
      "+---+-----+\n",
      "\n",
      "+----------+-----+\n",
      "|        gt|count|\n",
      "+----------+-----+\n",
      "|       sit|12309|\n",
      "|     stand|11384|\n",
      "|stairsdown| 9365|\n",
      "|      walk|13256|\n",
      "|  stairsup|10452|\n",
      "|      null|10449|\n",
      "|      bike|10796|\n",
      "+----------+-----+\n",
      "\n",
      "+----------+-----+\n",
      "|        gt|count|\n",
      "+----------+-----+\n",
      "|       sit|12309|\n",
      "|     stand|11384|\n",
      "|stairsdown| 9365|\n",
      "|      walk|13256|\n",
      "|  stairsup|10452|\n",
      "|      null|10449|\n",
      "|      bike|10796|\n",
      "+----------+-----+\n",
      "\n",
      "+----------+-----+\n",
      "|        gt|count|\n",
      "+----------+-----+\n",
      "|       sit|24619|\n",
      "|     stand|22769|\n",
      "|stairsdown|18729|\n",
      "|      walk|26512|\n",
      "|  stairsup|20905|\n",
      "|      null|20896|\n",
      "|      bike|21593|\n",
      "+----------+-----+\n",
      "\n",
      "+----------+-----+\n",
      "|        gt|count|\n",
      "+----------+-----+\n",
      "|       sit|36929|\n",
      "|     stand|34154|\n",
      "|stairsdown|28094|\n",
      "|      walk|39768|\n",
      "|  stairsup|31357|\n",
      "|      null|31343|\n",
      "|      bike|32390|\n",
      "+----------+-----+\n",
      "\n",
      "+----------+-----+\n",
      "|        gt|count|\n",
      "+----------+-----+\n",
      "|       sit|49238|\n",
      "|     stand|45539|\n",
      "|stairsdown|37459|\n",
      "|      walk|53024|\n",
      "|  stairsup|41809|\n",
      "|      null|41791|\n",
      "|      bike|43187|\n",
      "+----------+-----+\n",
      "\n",
      "+----------+-----+\n",
      "|        gt|count|\n",
      "+----------+-----+\n",
      "|       sit|61547|\n",
      "|     stand|56924|\n",
      "|stairsdown|46825|\n",
      "|      walk|66280|\n",
      "|  stairsup|52260|\n",
      "|      null|52239|\n",
      "|      bike|53984|\n",
      "+----------+-----+\n",
      "\n",
      "+----------+-----+\n",
      "|        gt|count|\n",
      "+----------+-----+\n",
      "|       sit|73855|\n",
      "|     stand|68309|\n",
      "|stairsdown|56192|\n",
      "|      walk|79536|\n",
      "|  stairsup|62710|\n",
      "|      null|62688|\n",
      "|      bike|64781|\n",
      "+----------+-----+\n",
      "\n"
     ]
    }
   ],
   "source": [
    "for x in range(10):\n",
    "    spark.sql(\"SELECT * FROM device_counts\").show()\n",
    "    sleep(1)"
   ]
  },
  {
   "cell_type": "code",
   "execution_count": 14,
   "metadata": {
    "tags": []
   },
   "outputs": [],
   "source": [
    "spark.stop()"
   ]
  }
 ],
 "metadata": {
  "kernelspec": {
   "display_name": "Python 3 (ipykernel)",
   "language": "python",
   "name": "python3"
  },
  "language_info": {
   "codemirror_mode": {
    "name": "ipython",
    "version": 3
   },
   "file_extension": ".py",
   "mimetype": "text/x-python",
   "name": "python",
   "nbconvert_exporter": "python",
   "pygments_lexer": "ipython3",
   "version": "3.10.10"
  }
 },
 "nbformat": 4,
 "nbformat_minor": 4
}
