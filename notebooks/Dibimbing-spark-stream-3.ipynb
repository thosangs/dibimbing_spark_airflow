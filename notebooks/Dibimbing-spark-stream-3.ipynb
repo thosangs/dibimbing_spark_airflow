{
 "cells": [
  {
   "cell_type": "markdown",
   "metadata": {},
   "source": [
    "# Initialization"
   ]
  },
  {
   "cell_type": "code",
   "execution_count": 1,
   "metadata": {
    "tags": []
   },
   "outputs": [],
   "source": [
    "import json\n",
    "import uuid\n",
    "import os\n",
    "import json\n",
    "from dotenv import load_dotenv\n",
    "from pathlib import Path\n",
    "from kafka import KafkaProducer\n",
    "from faker import Faker\n",
    "from time import sleep"
   ]
  },
  {
   "cell_type": "code",
   "execution_count": 2,
   "metadata": {
    "tags": []
   },
   "outputs": [
    {
     "data": {
      "text/html": [
       "\n",
       "            <div>\n",
       "                <p><b>SparkSession - in-memory</b></p>\n",
       "                \n",
       "        <div>\n",
       "            <p><b>SparkContext</b></p>\n",
       "\n",
       "            <p><a href=\"http://dibimbing-jupyter:4041\">Spark UI</a></p>\n",
       "\n",
       "            <dl>\n",
       "              <dt>Version</dt>\n",
       "                <dd><code>v3.3.2</code></dd>\n",
       "              <dt>Master</dt>\n",
       "                <dd><code>local[*]</code></dd>\n",
       "              <dt>AppName</dt>\n",
       "                <dd><code>Dibimbing Spark-Kafka</code></dd>\n",
       "            </dl>\n",
       "        </div>\n",
       "        \n",
       "            </div>\n",
       "        "
      ],
      "text/plain": [
       "<pyspark.sql.session.SparkSession at 0xffff6f98d8a0>"
      ]
     },
     "execution_count": 2,
     "metadata": {},
     "output_type": "execute_result"
    }
   ],
   "source": [
    "from pyspark.sql import SparkSession\n",
    "\n",
    "spark = (\n",
    "    SparkSession \n",
    "    .builder \n",
    "    .appName(\"Dibimbing Spark-Kafka\") \n",
    "    .config(\"spark.streaming.stopGracefullyOnShutdown\", True) \n",
    "    .config('spark.jars.packages', 'org.apache.spark:spark-sql-kafka-0-10_2.12:3.3.2')\n",
    "    .config(\"spark.sql.shuffle.partitions\", 4)\n",
    "    .master(\"local[*]\") \n",
    "    .getOrCreate()\n",
    ")\n",
    "\n",
    "spark"
   ]
  },
  {
   "cell_type": "code",
   "execution_count": 5,
   "metadata": {
    "tags": []
   },
   "outputs": [],
   "source": [
    "# set partitions\n",
    "spark.conf.set('spark.sql.shuffle.partitions', 5)"
   ]
  },
  {
   "cell_type": "markdown",
   "metadata": {},
   "source": [
    "# Spark - Kafka Streaming"
   ]
  },
  {
   "cell_type": "code",
   "execution_count": 6,
   "metadata": {
    "tags": []
   },
   "outputs": [
    {
     "data": {
      "text/plain": [
       "True"
      ]
     },
     "execution_count": 6,
     "metadata": {},
     "output_type": "execute_result"
    }
   ],
   "source": [
    "dotenv_path = Path('/resources/.env')\n",
    "load_dotenv(dotenv_path=dotenv_path)"
   ]
  },
  {
   "cell_type": "code",
   "execution_count": 7,
   "metadata": {
    "tags": []
   },
   "outputs": [],
   "source": [
    "kafka_host = os.getenv('KAFKA_HOST')\n",
    "kafka_topic = os.getenv('KAFKA_TOPIC_NAME')\n",
    "kafka_topic_partition = os.getenv('KAFKA_TOPIC_NAME')+\"-1\""
   ]
  },
  {
   "cell_type": "markdown",
   "metadata": {
    "tags": []
   },
   "source": [
    "## Batch Simulation"
   ]
  },
  {
   "cell_type": "code",
   "execution_count": 8,
   "metadata": {
    "tags": []
   },
   "outputs": [],
   "source": [
    "kafka_df = (\n",
    "    spark\n",
    "    .read\n",
    "    .format(\"kafka\")\n",
    "    .option(\"kafka.bootstrap.servers\", f'{kafka_host}:9092')\n",
    "    .option(\"subscribe\", kafka_topic)\n",
    "    .option(\"startingOffsets\", \"earliest\")\n",
    "    .load()\n",
    ")"
   ]
  },
  {
   "cell_type": "code",
   "execution_count": 9,
   "metadata": {
    "tags": []
   },
   "outputs": [
    {
     "name": "stdout",
     "output_type": "stream",
     "text": [
      "root\n",
      " |-- key: binary (nullable = true)\n",
      " |-- value: binary (nullable = true)\n",
      " |-- topic: string (nullable = true)\n",
      " |-- partition: integer (nullable = true)\n",
      " |-- offset: long (nullable = true)\n",
      " |-- timestamp: timestamp (nullable = true)\n",
      " |-- timestampType: integer (nullable = true)\n",
      "\n"
     ]
    }
   ],
   "source": [
    "kafka_df.printSchema()"
   ]
  },
  {
   "cell_type": "code",
   "execution_count": 10,
   "metadata": {
    "tags": []
   },
   "outputs": [
    {
     "name": "stdout",
     "output_type": "stream",
     "text": [
      "+----+--------------------+----------+---------+------+--------------------+-------------+\n",
      "| key|               value|     topic|partition|offset|           timestamp|timestampType|\n",
      "+----+--------------------+----------+---------+------+--------------------+-------------+\n",
      "|null|[7B 22 6F 72 64 6...|test-topic|        0|     0|2025-04-12 03:37:...|            0|\n",
      "|null|[7B 22 6F 72 64 6...|test-topic|        0|     1|2025-04-12 03:37:...|            0|\n",
      "|null|[7B 22 6F 72 64 6...|test-topic|        0|     2|2025-04-12 03:38:...|            0|\n",
      "|null|[7B 22 6F 72 64 6...|test-topic|        0|     3|2025-04-12 03:38:...|            0|\n",
      "|null|[7B 22 6F 72 64 6...|test-topic|        0|     4|2025-04-12 03:38:...|            0|\n",
      "|null|[7B 22 6F 72 64 6...|test-topic|        0|     5|2025-04-12 03:38:...|            0|\n",
      "|null|[7B 22 6F 72 64 6...|test-topic|        0|     6|2025-04-12 03:38:...|            0|\n",
      "|null|[7B 22 6F 72 64 6...|test-topic|        0|     7|2025-04-12 03:38:...|            0|\n",
      "|null|[7B 22 6F 72 64 6...|test-topic|        0|     8|2025-04-12 03:38:...|            0|\n",
      "|null|[7B 22 6F 72 64 6...|test-topic|        0|     9|2025-04-12 03:38:...|            0|\n",
      "|null|[7B 22 6F 72 64 6...|test-topic|        0|    10|2025-04-12 03:38:...|            0|\n",
      "|null|[7B 22 6F 72 64 6...|test-topic|        0|    11|2025-04-12 03:38:...|            0|\n",
      "|null|[7B 22 6F 72 64 6...|test-topic|        0|    12|2025-04-12 03:38:...|            0|\n",
      "|null|[7B 22 6F 72 64 6...|test-topic|        0|    13|2025-04-12 03:38:...|            0|\n",
      "|null|[7B 22 6F 72 64 6...|test-topic|        0|    14|2025-04-12 03:38:...|            0|\n",
      "|null|[7B 22 6F 72 64 6...|test-topic|        0|    15|2025-04-12 03:38:...|            0|\n",
      "|null|[7B 22 6F 72 64 6...|test-topic|        0|    16|2025-04-12 03:38:...|            0|\n",
      "|null|[7B 22 6F 72 64 6...|test-topic|        0|    17|2025-04-12 03:38:...|            0|\n",
      "|null|[7B 22 6F 72 64 6...|test-topic|        0|    18|2025-04-12 03:38:...|            0|\n",
      "|null|[7B 22 6F 72 64 6...|test-topic|        0|    19|2025-04-12 03:38:...|            0|\n",
      "+----+--------------------+----------+---------+------+--------------------+-------------+\n",
      "only showing top 20 rows\n",
      "\n"
     ]
    }
   ],
   "source": [
    "kafka_df.show()"
   ]
  },
  {
   "cell_type": "code",
   "execution_count": 11,
   "metadata": {
    "tags": []
   },
   "outputs": [],
   "source": [
    "from pyspark.sql.functions import expr\n",
    "\n",
    "kafka_json_df = kafka_df.withColumn(\"value\", expr(\"cast(value as string)\"))"
   ]
  },
  {
   "cell_type": "code",
   "execution_count": 12,
   "metadata": {
    "tags": []
   },
   "outputs": [
    {
     "name": "stdout",
     "output_type": "stream",
     "text": [
      "+----+--------------------+----------+---------+------+--------------------+-------------+\n",
      "| key|               value|     topic|partition|offset|           timestamp|timestampType|\n",
      "+----+--------------------+----------+---------+------+--------------------+-------------+\n",
      "|null|{\"order_id\": \"0cc...|test-topic|        0|     0|2025-04-12 03:37:...|            0|\n",
      "|null|{\"order_id\": \"677...|test-topic|        0|     1|2025-04-12 03:37:...|            0|\n",
      "|null|{\"order_id\": \"87c...|test-topic|        0|     2|2025-04-12 03:38:...|            0|\n",
      "|null|{\"order_id\": \"dfc...|test-topic|        0|     3|2025-04-12 03:38:...|            0|\n",
      "|null|{\"order_id\": \"26c...|test-topic|        0|     4|2025-04-12 03:38:...|            0|\n",
      "+----+--------------------+----------+---------+------+--------------------+-------------+\n",
      "only showing top 5 rows\n",
      "\n"
     ]
    }
   ],
   "source": [
    "kafka_json_df.show(5)"
   ]
  },
  {
   "cell_type": "code",
   "execution_count": 13,
   "metadata": {
    "tags": []
   },
   "outputs": [
    {
     "data": {
      "text/plain": [
       "[Row(value='{\"order_id\": \"0ccdfd7e-94ad-49d0-81b7-8699c08b2937\", \"customer_id\": 75, \"furniture\": \"Chair\", \"color\": \"teal\", \"price\": 10451, \"ts\": 1744427936}'),\n",
       " Row(value='{\"order_id\": \"677fd7f3-16f1-4ca2-aba4-aaa916993d7a\", \"customer_id\": 74, \"furniture\": \"Bed\", \"color\": \"fuchsia\", \"price\": 27660, \"ts\": 1744425519}'),\n",
       " Row(value='{\"order_id\": \"87c805bd-ba44-4347-9421-0e6cac9fc031\", \"customer_id\": 65, \"furniture\": \"Bed\", \"color\": \"silver\", \"price\": 141173, \"ts\": 1744426902}'),\n",
       " Row(value='{\"order_id\": \"dfc9a66a-6e03-466e-994d-cb88eb512844\", \"customer_id\": 67, \"furniture\": \"Bed\", \"color\": \"lime\", \"price\": 102250, \"ts\": 1744427274}'),\n",
       " Row(value='{\"order_id\": \"26c88389-e767-4fa0-b229-c6dbb962033e\", \"customer_id\": 86, \"furniture\": \"Bed\", \"color\": \"navy\", \"price\": 95197, \"ts\": 1744426702}')]"
      ]
     },
     "execution_count": 13,
     "metadata": {},
     "output_type": "execute_result"
    }
   ],
   "source": [
    "(\n",
    "    kafka_json_df\n",
    "    .select('value')\n",
    "    .limit(5)\n",
    "    .collect()\n",
    ")"
   ]
  },
  {
   "cell_type": "code",
   "execution_count": 14,
   "metadata": {
    "tags": []
   },
   "outputs": [],
   "source": [
    "from pyspark.sql.types import StructType, StructField, StringType, IntegerType, LongType\n",
    "\n",
    "schema = StructType(\n",
    "    [\n",
    "        # StructField(\"emp_id\", StringType(), True),\n",
    "        # StructField(\"employee_name\", StringType(), True),\n",
    "        # StructField(\"department\", StringType(), True),\n",
    "        # StructField(\"state\", StringType(), True),\n",
    "        # StructField(\"salary\", LongType(), True),\n",
    "        # StructField(\"age\", IntegerType(), True),\n",
    "        # StructField(\"bonus\", LongType(), True),\n",
    "        # StructField(\"ts\", LongType(), True),\n",
    "        StructField(\"order_id\", StringType(), True),\n",
    "        StructField(\"customer_id\", IntegerType(), True),\n",
    "        StructField(\"furniture\", StringType(), True),\n",
    "        StructField(\"color\", StringType(), True),\n",
    "        StructField(\"price\", LongType(), True),\n",
    "        StructField(\"ts\", LongType(), True),\n",
    "        \n",
    "    ]\n",
    ")"
   ]
  },
  {
   "cell_type": "code",
   "execution_count": 15,
   "metadata": {
    "scrolled": true,
    "tags": []
   },
   "outputs": [
    {
     "name": "stdout",
     "output_type": "stream",
     "text": [
      "+--------------------+-----------+---------+-------+------+----------+\n",
      "|            order_id|customer_id|furniture|  color| price|        ts|\n",
      "+--------------------+-----------+---------+-------+------+----------+\n",
      "|0ccdfd7e-94ad-49d...|         75|    Chair|   teal| 10451|1744427936|\n",
      "|677fd7f3-16f1-4ca...|         74|      Bed|fuchsia| 27660|1744425519|\n",
      "|87c805bd-ba44-434...|         65|      Bed| silver|141173|1744426902|\n",
      "|dfc9a66a-6e03-466...|         67|      Bed|   lime|102250|1744427274|\n",
      "|26c88389-e767-4fa...|         86|      Bed|   navy| 95197|1744426702|\n",
      "|0cedd4ed-900b-4f8...|          2|      Bed| yellow|135914|1744427945|\n",
      "|11522abc-e521-4b0...|         35|      Bed|  white| 81696|1744425941|\n",
      "|cdd3bb61-ddeb-4f6...|          8|     Sofa| purple| 68734|1744428778|\n",
      "|e60e20e2-f8d5-42c...|         18|    Chair| maroon|110162|1744428290|\n",
      "|0a115a2b-65ae-4df...|         33|     Desk|   aqua|149617|1744425783|\n",
      "|4ae30e22-e9f1-4ec...|         36|      Bed|  black| 66634|1744426457|\n",
      "|4e25d673-2b47-463...|         97|    Chair| purple|110645|1744428331|\n",
      "|a0680670-f94e-4bd...|         57|     Sofa|  white| 11373|1744425804|\n",
      "|373d36bf-ba46-43e...|         49|     Desk| maroon| 17638|1744426311|\n",
      "|80532c1e-f3de-4f7...|         17|    Chair| yellow|120979|1744426090|\n",
      "|db0d2429-9e89-451...|         77|     Desk|   gray| 45763|1744427711|\n",
      "|dce6d855-58e6-4f1...|         80|     Sofa|   gray| 57852|1744428409|\n",
      "|608864a7-2ea5-478...|         86|    Chair|   navy|137347|1744426327|\n",
      "|b2482872-4f8c-487...|         26|    Table| purple| 34623|1744427635|\n",
      "|4602687e-7777-49f...|         60|      Bed| yellow|141424|1744427412|\n",
      "+--------------------+-----------+---------+-------+------+----------+\n",
      "only showing top 20 rows\n",
      "\n"
     ]
    }
   ],
   "source": [
    "from pyspark.sql.functions import from_json, col\n",
    "\n",
    "(\n",
    "    kafka_json_df\n",
    "    .select(\n",
    "        from_json(col(\"value\"), schema)\n",
    "        .alias(\"data\")\n",
    "    )\n",
    "    .select(\"data.*\")\n",
    "    .show()\n",
    ")"
   ]
  },
  {
   "cell_type": "markdown",
   "metadata": {
    "tags": []
   },
   "source": [
    "## Stream Simulation"
   ]
  },
  {
   "cell_type": "code",
   "execution_count": 24,
   "metadata": {
    "tags": []
   },
   "outputs": [],
   "source": [
    "kafka_df = (\n",
    "    spark\n",
    "    .readStream\n",
    "    .format(\"kafka\")\n",
    "    .option(\"kafka.bootstrap.servers\", f'{kafka_host}:9092')\n",
    "    .option(\"subscribe\", kafka_topic)\n",
    "    .option(\"failOnDataLoss\", False)\n",
    "    # .option(\"startingOffsets\", \"earliest\")\n",
    "    .load()\n",
    ")"
   ]
  },
  {
   "cell_type": "code",
   "execution_count": 25,
   "metadata": {
    "tags": []
   },
   "outputs": [],
   "source": [
    "from pyspark.sql.functions import from_json, col, expr\n",
    "\n",
    "parsed_df = (\n",
    "    kafka_df\n",
    "    .withColumn(\"value\", expr(\"cast(value as string)\"))\n",
    "    .select(\n",
    "        from_json(col(\"value\"), schema)\n",
    "        .alias(\"data\")\n",
    "    )\n",
    "    .select(\"data.*\")\n",
    ")"
   ]
  },
  {
   "cell_type": "code",
   "execution_count": 27,
   "metadata": {},
   "outputs": [],
   "source": [
    "streaming_obj = (\n",
    "    parsed_df\n",
    "    .writeStream\n",
    "    .format(\"console\")\n",
    "    .outputMode(\"append\")\n",
    "    # .trigger(processingTime='5 seconds')\n",
    "    # .trigger(continuous='1 second')\n",
    "    # .trigger(once=True)\n",
    "    .option(\"checkpointLocation\", \"checkpoint_dir_1\")\n",
    "    .start()\n",
    ")"
   ]
  },
  {
   "cell_type": "code",
   "execution_count": 23,
   "metadata": {
    "tags": []
   },
   "outputs": [],
   "source": [
    "streaming_obj.stop()"
   ]
  }
 ],
 "metadata": {
  "kernelspec": {
   "display_name": "Python 3 (ipykernel)",
   "language": "python",
   "name": "python3"
  },
  "language_info": {
   "codemirror_mode": {
    "name": "ipython",
    "version": 3
   },
   "file_extension": ".py",
   "mimetype": "text/x-python",
   "name": "python",
   "nbconvert_exporter": "python",
   "pygments_lexer": "ipython3",
   "version": "3.10.10"
  }
 },
 "nbformat": 4,
 "nbformat_minor": 4
}
